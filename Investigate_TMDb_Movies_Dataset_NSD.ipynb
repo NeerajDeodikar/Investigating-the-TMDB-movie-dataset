{
 "cells": [
  {
   "cell_type": "markdown",
   "metadata": {},
   "source": [
    "# Project: Investigate the TMDb Movies Dataset \n",
    "\n",
    "## Table of Contents\n",
    "<ul>\n",
    "<li><a href=\"#intro\">Introduction</a></li>\n",
    "<li><a href=\"#wrangling\">Data Wrangling</a></li>\n",
    "<li><a href=\"#eda\">Exploratory Data Analysis</a></li>\n",
    "<li><a href=\"#conclusions\">Conclusions</a></li>\n",
    "</ul>"
   ]
  },
  {
   "cell_type": "markdown",
   "metadata": {},
   "source": [
    "<a id='intro'></a>\n",
    "## Introduction\n",
    "\n",
    "I have selected the TMDb dataset from Kaggle. This data set contains information about 10,000 movies collected from The Movie Database (TMDb), including user ratings and revenue. The success of particularmovie depends on various factors. In this project we would explore such factors and examine how they contribute to the success of the movie."
   ]
  },
  {
   "cell_type": "code",
   "execution_count": 2,
   "metadata": {},
   "outputs": [],
   "source": [
    "# Importing the required packages\n",
    "import numpy as np\n",
    "import pandas as pd\n",
    "import matplotlib.pyplot as plt\n",
    "import seaborn as sns"
   ]
  },
  {
   "cell_type": "markdown",
   "metadata": {},
   "source": [
    "<a id='wrangling'></a>\n",
    "## Data Wrangling"
   ]
  },
  {
   "cell_type": "code",
   "execution_count": 3,
   "metadata": {},
   "outputs": [
    {
     "data": {
      "text/html": [
       "<div>\n",
       "<style scoped>\n",
       "    .dataframe tbody tr th:only-of-type {\n",
       "        vertical-align: middle;\n",
       "    }\n",
       "\n",
       "    .dataframe tbody tr th {\n",
       "        vertical-align: top;\n",
       "    }\n",
       "\n",
       "    .dataframe thead th {\n",
       "        text-align: right;\n",
       "    }\n",
       "</style>\n",
       "<table border=\"1\" class=\"dataframe\">\n",
       "  <thead>\n",
       "    <tr style=\"text-align: right;\">\n",
       "      <th></th>\n",
       "      <th>id</th>\n",
       "      <th>imdb_id</th>\n",
       "      <th>popularity</th>\n",
       "      <th>budget</th>\n",
       "      <th>revenue</th>\n",
       "      <th>original_title</th>\n",
       "      <th>cast</th>\n",
       "      <th>homepage</th>\n",
       "      <th>director</th>\n",
       "      <th>tagline</th>\n",
       "      <th>...</th>\n",
       "      <th>overview</th>\n",
       "      <th>runtime</th>\n",
       "      <th>genres</th>\n",
       "      <th>production_companies</th>\n",
       "      <th>release_date</th>\n",
       "      <th>vote_count</th>\n",
       "      <th>vote_average</th>\n",
       "      <th>release_year</th>\n",
       "      <th>budget_adj</th>\n",
       "      <th>revenue_adj</th>\n",
       "    </tr>\n",
       "  </thead>\n",
       "  <tbody>\n",
       "    <tr>\n",
       "      <td>0</td>\n",
       "      <td>135397</td>\n",
       "      <td>tt0369610</td>\n",
       "      <td>32.985763</td>\n",
       "      <td>150000000</td>\n",
       "      <td>1513528810</td>\n",
       "      <td>Jurassic World</td>\n",
       "      <td>Chris Pratt|Bryce Dallas Howard|Irrfan Khan|Vi...</td>\n",
       "      <td>http://www.jurassicworld.com/</td>\n",
       "      <td>Colin Trevorrow</td>\n",
       "      <td>The park is open.</td>\n",
       "      <td>...</td>\n",
       "      <td>Twenty-two years after the events of Jurassic ...</td>\n",
       "      <td>124</td>\n",
       "      <td>Action|Adventure|Science Fiction|Thriller</td>\n",
       "      <td>Universal Studios|Amblin Entertainment|Legenda...</td>\n",
       "      <td>6/9/15</td>\n",
       "      <td>5562</td>\n",
       "      <td>6.5</td>\n",
       "      <td>2015</td>\n",
       "      <td>1.379999e+08</td>\n",
       "      <td>1.392446e+09</td>\n",
       "    </tr>\n",
       "    <tr>\n",
       "      <td>1</td>\n",
       "      <td>76341</td>\n",
       "      <td>tt1392190</td>\n",
       "      <td>28.419936</td>\n",
       "      <td>150000000</td>\n",
       "      <td>378436354</td>\n",
       "      <td>Mad Max: Fury Road</td>\n",
       "      <td>Tom Hardy|Charlize Theron|Hugh Keays-Byrne|Nic...</td>\n",
       "      <td>http://www.madmaxmovie.com/</td>\n",
       "      <td>George Miller</td>\n",
       "      <td>What a Lovely Day.</td>\n",
       "      <td>...</td>\n",
       "      <td>An apocalyptic story set in the furthest reach...</td>\n",
       "      <td>120</td>\n",
       "      <td>Action|Adventure|Science Fiction|Thriller</td>\n",
       "      <td>Village Roadshow Pictures|Kennedy Miller Produ...</td>\n",
       "      <td>5/13/15</td>\n",
       "      <td>6185</td>\n",
       "      <td>7.1</td>\n",
       "      <td>2015</td>\n",
       "      <td>1.379999e+08</td>\n",
       "      <td>3.481613e+08</td>\n",
       "    </tr>\n",
       "    <tr>\n",
       "      <td>2</td>\n",
       "      <td>262500</td>\n",
       "      <td>tt2908446</td>\n",
       "      <td>13.112507</td>\n",
       "      <td>110000000</td>\n",
       "      <td>295238201</td>\n",
       "      <td>Insurgent</td>\n",
       "      <td>Shailene Woodley|Theo James|Kate Winslet|Ansel...</td>\n",
       "      <td>http://www.thedivergentseries.movie/#insurgent</td>\n",
       "      <td>Robert Schwentke</td>\n",
       "      <td>One Choice Can Destroy You</td>\n",
       "      <td>...</td>\n",
       "      <td>Beatrice Prior must confront her inner demons ...</td>\n",
       "      <td>119</td>\n",
       "      <td>Adventure|Science Fiction|Thriller</td>\n",
       "      <td>Summit Entertainment|Mandeville Films|Red Wago...</td>\n",
       "      <td>3/18/15</td>\n",
       "      <td>2480</td>\n",
       "      <td>6.3</td>\n",
       "      <td>2015</td>\n",
       "      <td>1.012000e+08</td>\n",
       "      <td>2.716190e+08</td>\n",
       "    </tr>\n",
       "    <tr>\n",
       "      <td>3</td>\n",
       "      <td>140607</td>\n",
       "      <td>tt2488496</td>\n",
       "      <td>11.173104</td>\n",
       "      <td>200000000</td>\n",
       "      <td>2068178225</td>\n",
       "      <td>Star Wars: The Force Awakens</td>\n",
       "      <td>Harrison Ford|Mark Hamill|Carrie Fisher|Adam D...</td>\n",
       "      <td>http://www.starwars.com/films/star-wars-episod...</td>\n",
       "      <td>J.J. Abrams</td>\n",
       "      <td>Every generation has a story.</td>\n",
       "      <td>...</td>\n",
       "      <td>Thirty years after defeating the Galactic Empi...</td>\n",
       "      <td>136</td>\n",
       "      <td>Action|Adventure|Science Fiction|Fantasy</td>\n",
       "      <td>Lucasfilm|Truenorth Productions|Bad Robot</td>\n",
       "      <td>12/15/15</td>\n",
       "      <td>5292</td>\n",
       "      <td>7.5</td>\n",
       "      <td>2015</td>\n",
       "      <td>1.839999e+08</td>\n",
       "      <td>1.902723e+09</td>\n",
       "    </tr>\n",
       "    <tr>\n",
       "      <td>4</td>\n",
       "      <td>168259</td>\n",
       "      <td>tt2820852</td>\n",
       "      <td>9.335014</td>\n",
       "      <td>190000000</td>\n",
       "      <td>1506249360</td>\n",
       "      <td>Furious 7</td>\n",
       "      <td>Vin Diesel|Paul Walker|Jason Statham|Michelle ...</td>\n",
       "      <td>http://www.furious7.com/</td>\n",
       "      <td>James Wan</td>\n",
       "      <td>Vengeance Hits Home</td>\n",
       "      <td>...</td>\n",
       "      <td>Deckard Shaw seeks revenge against Dominic Tor...</td>\n",
       "      <td>137</td>\n",
       "      <td>Action|Crime|Thriller</td>\n",
       "      <td>Universal Pictures|Original Film|Media Rights ...</td>\n",
       "      <td>4/1/15</td>\n",
       "      <td>2947</td>\n",
       "      <td>7.3</td>\n",
       "      <td>2015</td>\n",
       "      <td>1.747999e+08</td>\n",
       "      <td>1.385749e+09</td>\n",
       "    </tr>\n",
       "  </tbody>\n",
       "</table>\n",
       "<p>5 rows × 21 columns</p>\n",
       "</div>"
      ],
      "text/plain": [
       "       id    imdb_id  popularity     budget     revenue  \\\n",
       "0  135397  tt0369610   32.985763  150000000  1513528810   \n",
       "1   76341  tt1392190   28.419936  150000000   378436354   \n",
       "2  262500  tt2908446   13.112507  110000000   295238201   \n",
       "3  140607  tt2488496   11.173104  200000000  2068178225   \n",
       "4  168259  tt2820852    9.335014  190000000  1506249360   \n",
       "\n",
       "                 original_title  \\\n",
       "0                Jurassic World   \n",
       "1            Mad Max: Fury Road   \n",
       "2                     Insurgent   \n",
       "3  Star Wars: The Force Awakens   \n",
       "4                     Furious 7   \n",
       "\n",
       "                                                cast  \\\n",
       "0  Chris Pratt|Bryce Dallas Howard|Irrfan Khan|Vi...   \n",
       "1  Tom Hardy|Charlize Theron|Hugh Keays-Byrne|Nic...   \n",
       "2  Shailene Woodley|Theo James|Kate Winslet|Ansel...   \n",
       "3  Harrison Ford|Mark Hamill|Carrie Fisher|Adam D...   \n",
       "4  Vin Diesel|Paul Walker|Jason Statham|Michelle ...   \n",
       "\n",
       "                                            homepage          director  \\\n",
       "0                      http://www.jurassicworld.com/   Colin Trevorrow   \n",
       "1                        http://www.madmaxmovie.com/     George Miller   \n",
       "2     http://www.thedivergentseries.movie/#insurgent  Robert Schwentke   \n",
       "3  http://www.starwars.com/films/star-wars-episod...       J.J. Abrams   \n",
       "4                           http://www.furious7.com/         James Wan   \n",
       "\n",
       "                         tagline  ...  \\\n",
       "0              The park is open.  ...   \n",
       "1             What a Lovely Day.  ...   \n",
       "2     One Choice Can Destroy You  ...   \n",
       "3  Every generation has a story.  ...   \n",
       "4            Vengeance Hits Home  ...   \n",
       "\n",
       "                                            overview runtime  \\\n",
       "0  Twenty-two years after the events of Jurassic ...     124   \n",
       "1  An apocalyptic story set in the furthest reach...     120   \n",
       "2  Beatrice Prior must confront her inner demons ...     119   \n",
       "3  Thirty years after defeating the Galactic Empi...     136   \n",
       "4  Deckard Shaw seeks revenge against Dominic Tor...     137   \n",
       "\n",
       "                                      genres  \\\n",
       "0  Action|Adventure|Science Fiction|Thriller   \n",
       "1  Action|Adventure|Science Fiction|Thriller   \n",
       "2         Adventure|Science Fiction|Thriller   \n",
       "3   Action|Adventure|Science Fiction|Fantasy   \n",
       "4                      Action|Crime|Thriller   \n",
       "\n",
       "                                production_companies release_date vote_count  \\\n",
       "0  Universal Studios|Amblin Entertainment|Legenda...       6/9/15       5562   \n",
       "1  Village Roadshow Pictures|Kennedy Miller Produ...      5/13/15       6185   \n",
       "2  Summit Entertainment|Mandeville Films|Red Wago...      3/18/15       2480   \n",
       "3          Lucasfilm|Truenorth Productions|Bad Robot     12/15/15       5292   \n",
       "4  Universal Pictures|Original Film|Media Rights ...       4/1/15       2947   \n",
       "\n",
       "   vote_average  release_year    budget_adj   revenue_adj  \n",
       "0           6.5          2015  1.379999e+08  1.392446e+09  \n",
       "1           7.1          2015  1.379999e+08  3.481613e+08  \n",
       "2           6.3          2015  1.012000e+08  2.716190e+08  \n",
       "3           7.5          2015  1.839999e+08  1.902723e+09  \n",
       "4           7.3          2015  1.747999e+08  1.385749e+09  \n",
       "\n",
       "[5 rows x 21 columns]"
      ]
     },
     "execution_count": 3,
     "metadata": {},
     "output_type": "execute_result"
    }
   ],
   "source": [
    "# Loading the dataset as a dataframe\n",
    "df = pd.read_csv('tmdb-movies.csv')\n",
    "\n",
    "# Displaying first few records of the dataframe\n",
    "df.head()"
   ]
  },
  {
   "cell_type": "code",
   "execution_count": 4,
   "metadata": {},
   "outputs": [
    {
     "name": "stdout",
     "output_type": "stream",
     "text": [
      "Number of rows:  10866\n",
      "Number of columns:  21\n",
      "------------------------------------------------------------------------------------\n",
      "<class 'pandas.core.frame.DataFrame'>\n",
      "RangeIndex: 10866 entries, 0 to 10865\n",
      "Data columns (total 21 columns):\n",
      "id                      10866 non-null int64\n",
      "imdb_id                 10856 non-null object\n",
      "popularity              10866 non-null float64\n",
      "budget                  10866 non-null int64\n",
      "revenue                 10866 non-null int64\n",
      "original_title          10866 non-null object\n",
      "cast                    10790 non-null object\n",
      "homepage                2936 non-null object\n",
      "director                10822 non-null object\n",
      "tagline                 8042 non-null object\n",
      "keywords                9373 non-null object\n",
      "overview                10862 non-null object\n",
      "runtime                 10866 non-null int64\n",
      "genres                  10843 non-null object\n",
      "production_companies    9836 non-null object\n",
      "release_date            10866 non-null object\n",
      "vote_count              10866 non-null int64\n",
      "vote_average            10866 non-null float64\n",
      "release_year            10866 non-null int64\n",
      "budget_adj              10866 non-null float64\n",
      "revenue_adj             10866 non-null float64\n",
      "dtypes: float64(4), int64(6), object(11)\n",
      "memory usage: 1.7+ MB\n",
      "None\n",
      "------------------------------------------------------------------------------------\n",
      "                  id    popularity        budget       revenue       runtime  \\\n",
      "count   10866.000000  10866.000000  1.086600e+04  1.086600e+04  10866.000000   \n",
      "mean    66064.177434      0.646441  1.462570e+07  3.982332e+07    102.070863   \n",
      "std     92130.136561      1.000185  3.091321e+07  1.170035e+08     31.381405   \n",
      "min         5.000000      0.000065  0.000000e+00  0.000000e+00      0.000000   \n",
      "25%     10596.250000      0.207583  0.000000e+00  0.000000e+00     90.000000   \n",
      "50%     20669.000000      0.383856  0.000000e+00  0.000000e+00     99.000000   \n",
      "75%     75610.000000      0.713817  1.500000e+07  2.400000e+07    111.000000   \n",
      "max    417859.000000     32.985763  4.250000e+08  2.781506e+09    900.000000   \n",
      "\n",
      "         vote_count  vote_average  release_year    budget_adj   revenue_adj  \n",
      "count  10866.000000  10866.000000  10866.000000  1.086600e+04  1.086600e+04  \n",
      "mean     217.389748      5.974922   2001.322658  1.755104e+07  5.136436e+07  \n",
      "std      575.619058      0.935142     12.812941  3.430616e+07  1.446325e+08  \n",
      "min       10.000000      1.500000   1960.000000  0.000000e+00  0.000000e+00  \n",
      "25%       17.000000      5.400000   1995.000000  0.000000e+00  0.000000e+00  \n",
      "50%       38.000000      6.000000   2006.000000  0.000000e+00  0.000000e+00  \n",
      "75%      145.750000      6.600000   2011.000000  2.085325e+07  3.369710e+07  \n",
      "max     9767.000000      9.200000   2015.000000  4.250000e+08  2.827124e+09  \n",
      "------------------------------------------------------------------------------------\n"
     ]
    }
   ],
   "source": [
    "# Displaying the shape of the dataframe\n",
    "print('Number of rows: ', df.shape[0])\n",
    "print('Number of columns: ', df.shape[1])\n",
    "print('------------------------------------------------------------------------------------')\n",
    "\n",
    "# Displaying the information about the dataframe (including the numbe rof records in each column and the data type of each column)\n",
    "print(df.info())\n",
    "print('------------------------------------------------------------------------------------')\n",
    "\n",
    "# Displaying some statistics (count, mean, standard deviation, five number summary) about the numeric columns of the dataframe\n",
    "print(df.describe())\n",
    "print('------------------------------------------------------------------------------------')"
   ]
  },
  {
   "cell_type": "markdown",
   "metadata": {},
   "source": [
    "> From the information displayed about the dataframe, we can see that there are a total of 10866 rows, spread across the 21 features/ columns across the dataframe. Further, all the columns are non-null and are of specific datatype. There are four columns having data type float, six columns having data type integer, and eleven columns having data type object.\n",
    "\n",
    "> From the statistical description of the data, we can see that for the popularity column it seems to have some outliers. But thinking logically, some movies do perform exceedingly well, and some perform really bad. So, I decided to not modify or treat the outliers, as I may loose some important insights by treating the outliers. For the budget and the revenue columns, we can see that, the minimum value, 25th percentile, and the 50th percentile, are all zeros, indicating that many values in these two columns are zeros. Practically thinking, it seems impossible for any movie to have either zero budget or zero revenue. So, these zeros might be just representing the missing data. Similarly, for the runtime column, the minimum value is zero, which is impossible for any movie, so it might be representing the missing value. For the release year column, we can see that the minimum value is 1960 and the maximum value is 2015. So, the dataset consists the data about the movies since 1960, upto 2015.\n",
    "\n",
    "### Data Cleaning\n",
    "\n",
    "> We first check, if there are any duplicate records in the dataset. We found that, there is one duplicate record in the dataset, so we dropped this duplicate record."
   ]
  },
  {
   "cell_type": "code",
   "execution_count": 5,
   "metadata": {},
   "outputs": [
    {
     "data": {
      "text/plain": [
       "1"
      ]
     },
     "execution_count": 5,
     "metadata": {},
     "output_type": "execute_result"
    }
   ],
   "source": [
    "# Checking for duplicate records\n",
    "sum(df.duplicated())"
   ]
  },
  {
   "cell_type": "code",
   "execution_count": 6,
   "metadata": {},
   "outputs": [
    {
     "name": "stdout",
     "output_type": "stream",
     "text": [
      "Number of rows:  10865\n",
      "Number of columns:  21\n"
     ]
    }
   ],
   "source": [
    "# Removing the duplicate entry\n",
    "df.drop_duplicates(inplace = True)\n",
    "\n",
    "# Checking for the number of records after removing the duplicates\n",
    "print('Number of rows: ', df.shape[0])\n",
    "print('Number of columns: ', df.shape[1])"
   ]
  },
  {
   "cell_type": "code",
   "execution_count": 7,
   "metadata": {},
   "outputs": [
    {
     "name": "stdout",
     "output_type": "stream",
     "text": [
      "Number of rows:  10865\n",
      "Number of columns:  15\n",
      "----------------------------------------------------------------\n",
      "       id  popularity     budget     revenue                original_title  \\\n",
      "0  135397   32.985763  150000000  1513528810                Jurassic World   \n",
      "1   76341   28.419936  150000000   378436354            Mad Max: Fury Road   \n",
      "2  262500   13.112507  110000000   295238201                     Insurgent   \n",
      "3  140607   11.173104  200000000  2068178225  Star Wars: The Force Awakens   \n",
      "4  168259    9.335014  190000000  1506249360                     Furious 7   \n",
      "\n",
      "                                                cast          director  \\\n",
      "0  Chris Pratt|Bryce Dallas Howard|Irrfan Khan|Vi...   Colin Trevorrow   \n",
      "1  Tom Hardy|Charlize Theron|Hugh Keays-Byrne|Nic...     George Miller   \n",
      "2  Shailene Woodley|Theo James|Kate Winslet|Ansel...  Robert Schwentke   \n",
      "3  Harrison Ford|Mark Hamill|Carrie Fisher|Adam D...       J.J. Abrams   \n",
      "4  Vin Diesel|Paul Walker|Jason Statham|Michelle ...         James Wan   \n",
      "\n",
      "                                            keywords  runtime  \\\n",
      "0  monster|dna|tyrannosaurus rex|velociraptor|island      124   \n",
      "1   future|chase|post-apocalyptic|dystopia|australia      120   \n",
      "2  based on novel|revolution|dystopia|sequel|dyst...      119   \n",
      "3              android|spaceship|jedi|space opera|3d      136   \n",
      "4                car race|speed|revenge|suspense|car      137   \n",
      "\n",
      "                                      genres  \\\n",
      "0  Action|Adventure|Science Fiction|Thriller   \n",
      "1  Action|Adventure|Science Fiction|Thriller   \n",
      "2         Adventure|Science Fiction|Thriller   \n",
      "3   Action|Adventure|Science Fiction|Fantasy   \n",
      "4                      Action|Crime|Thriller   \n",
      "\n",
      "                                production_companies release_date  vote_count  \\\n",
      "0  Universal Studios|Amblin Entertainment|Legenda...       6/9/15        5562   \n",
      "1  Village Roadshow Pictures|Kennedy Miller Produ...      5/13/15        6185   \n",
      "2  Summit Entertainment|Mandeville Films|Red Wago...      3/18/15        2480   \n",
      "3          Lucasfilm|Truenorth Productions|Bad Robot     12/15/15        5292   \n",
      "4  Universal Pictures|Original Film|Media Rights ...       4/1/15        2947   \n",
      "\n",
      "   vote_average  release_year  \n",
      "0           6.5          2015  \n",
      "1           7.1          2015  \n",
      "2           6.3          2015  \n",
      "3           7.5          2015  \n",
      "4           7.3          2015  \n"
     ]
    }
   ],
   "source": [
    "# Dropping the unwanted columns\n",
    "df.drop(['imdb_id', 'homepage', 'tagline', 'overview', 'budget_adj', 'revenue_adj'], axis = 1, inplace = True)\n",
    "\n",
    "# Checking for the number of records after removing the unwanted columns\n",
    "print('Number of rows: ', df.shape[0])\n",
    "print('Number of columns: ', df.shape[1])\n",
    "print('----------------------------------------------------------------')\n",
    "\n",
    "# Displaying the first few rows of the dataframe\n",
    "print(df.head())"
   ]
  },
  {
   "cell_type": "markdown",
   "metadata": {},
   "source": [
    "> I decide to drop some columns: imdb_id, homepage, tagline, overview, budget_adj, and revenue_adj, as I think those won't be helpful in answering my research questions for this dataset. After, removing the duplicate records and the unwanted columns from the dataset, now the dataset consists of 10865 rows and 15 columns.\n",
    "\n",
    "> Next, we will check for the missing values in the dataset:"
   ]
  },
  {
   "cell_type": "code",
   "execution_count": 8,
   "metadata": {},
   "outputs": [
    {
     "data": {
      "text/plain": [
       "id                         0\n",
       "popularity                 0\n",
       "budget                     0\n",
       "revenue                    0\n",
       "original_title             0\n",
       "cast                      76\n",
       "director                  44\n",
       "keywords                1493\n",
       "runtime                    0\n",
       "genres                    23\n",
       "production_companies    1030\n",
       "release_date               0\n",
       "vote_count                 0\n",
       "vote_average               0\n",
       "release_year               0\n",
       "dtype: int64"
      ]
     },
     "execution_count": 8,
     "metadata": {},
     "output_type": "execute_result"
    }
   ],
   "source": [
    "# Checking for the missing values\n",
    "df.isna().sum()"
   ]
  },
  {
   "cell_type": "markdown",
   "metadata": {},
   "source": [
    "> We can see that there are 76 missing values for the 'cast' column, 44 missing values for the 'director' column, 1493 missing values for the 'keywords' column, 23 missing values for the 'genres' column, and 1030 missing values for the 'production_companies' column."
   ]
  },
  {
   "cell_type": "code",
   "execution_count": 9,
   "metadata": {},
   "outputs": [],
   "source": [
    "# Replacing the missing values with respective strings\n",
    "df[\"cast\"].fillna(\"No Cast\", inplace = True)\n",
    "df[\"director\"].fillna(\"No Director\", inplace = True)\n",
    "df[\"keywords\"].fillna(\"No Keywords\", inplace = True)\n",
    "df[\"genres\"].fillna(\"No genres\", inplace = True)\n",
    "df[\"production_companies\"].fillna(\"No production companies\", inplace = True)"
   ]
  },
  {
   "cell_type": "code",
   "execution_count": 10,
   "metadata": {},
   "outputs": [
    {
     "data": {
      "text/plain": [
       "id                      0\n",
       "popularity              0\n",
       "budget                  0\n",
       "revenue                 0\n",
       "original_title          0\n",
       "cast                    0\n",
       "director                0\n",
       "keywords                0\n",
       "runtime                 0\n",
       "genres                  0\n",
       "production_companies    0\n",
       "release_date            0\n",
       "vote_count              0\n",
       "vote_average            0\n",
       "release_year            0\n",
       "dtype: int64"
      ]
     },
     "execution_count": 10,
     "metadata": {},
     "output_type": "execute_result"
    }
   ],
   "source": [
    "# Checking for the missing values after removing the missing values\n",
    "df.isna().sum()"
   ]
  },
  {
   "cell_type": "markdown",
   "metadata": {},
   "source": [
    "> There are huge number of missing values for some columns, such as keywords and production_companies. If we decide to drop the records with the missing values, we may loose huge amount of data from the original dataset, which will affect the results for the insights. Hence, instead of dropping these missing values, we replace these missing values. Here, for the 'cast' column, I replaced the missing values with the string: 'No cast'. Similarly, for the 'director' column, I replaced the missing values with the string: 'No director', for the 'keywords' column, I replaced the missing values with the string: 'No keywords', for the 'genres' column, I replaced the missing values with the string: 'No genres', and for the 'production_companies' column, I replaced the missing values with the string: 'No production comapnies'.\n",
    "\n",
    "> We can see after replacing all the missing values with respective strings, there are no missing values in the dataset left now.\n",
    "\n",
    "> Some columns like: cast, keywords, genres, and production_companies, have multiple values separated by '|' in the same column. This is bit difficult to read when looking into the dataset, also, if in future we need to answer some researh questions using any of these columns, it could be difficult. Hence, I decide to split the data in these columns and create new columns. "
   ]
  },
  {
   "cell_type": "code",
   "execution_count": 12,
   "metadata": {},
   "outputs": [
    {
     "name": "stdout",
     "output_type": "stream",
     "text": [
      "             cast_1               cast_2            cast_3  \\\n",
      "0       Chris Pratt  Bryce Dallas Howard       Irrfan Khan   \n",
      "1         Tom Hardy      Charlize Theron  Hugh Keays-Byrne   \n",
      "2  Shailene Woodley           Theo James      Kate Winslet   \n",
      "3     Harrison Ford          Mark Hamill     Carrie Fisher   \n",
      "4        Vin Diesel          Paul Walker     Jason Statham   \n",
      "\n",
      "               cast_4          cast_5  \n",
      "0   Vincent D'Onofrio   Nick Robinson  \n",
      "1      Nicholas Hoult     Josh Helman  \n",
      "2        Ansel Elgort    Miles Teller  \n",
      "3         Adam Driver    Daisy Ridley  \n",
      "4  Michelle Rodriguez  Dwayne Johnson  \n"
     ]
    }
   ],
   "source": [
    "# Splitting the data in the cast column\n",
    "df_cast = (df['cast'].str.split('|', expand = True).rename(columns = lambda i: f\"cast_{i+1}\"))\n",
    "print(df_cast.head())"
   ]
  },
  {
   "cell_type": "markdown",
   "metadata": {},
   "source": [
    "> In the above cell, I splitted the cast column based on the '|' separator, and saved the splitted columns of cast into another dataframe: df_cast."
   ]
  },
  {
   "cell_type": "code",
   "execution_count": 13,
   "metadata": {},
   "outputs": [
    {
     "name": "stdout",
     "output_type": "stream",
     "text": [
      "        keyword_1   keyword_2          keyword_3     keyword_4  \\\n",
      "0         monster         dna  tyrannosaurus rex  velociraptor   \n",
      "1          future       chase   post-apocalyptic      dystopia   \n",
      "2  based on novel  revolution           dystopia        sequel   \n",
      "3         android   spaceship               jedi   space opera   \n",
      "4        car race       speed            revenge      suspense   \n",
      "\n",
      "         keyword_5  \n",
      "0           island  \n",
      "1        australia  \n",
      "2  dystopic future  \n",
      "3               3d  \n",
      "4              car  \n"
     ]
    }
   ],
   "source": [
    "# Splitting the data in the keywords column\n",
    "df_keywords = (df['keywords'].str.split('|', expand = True).rename(columns = lambda i: f\"keyword_{i+1}\"))\n",
    "print(df_keywords.head())"
   ]
  },
  {
   "cell_type": "markdown",
   "metadata": {},
   "source": [
    "> In the above cell, I splitted the keywords column based on the '|' separator, and saved the splitted columns of keywords into another dataframe: df_keywords."
   ]
  },
  {
   "cell_type": "code",
   "execution_count": 14,
   "metadata": {},
   "outputs": [
    {
     "name": "stdout",
     "output_type": "stream",
     "text": [
      "     genre_1          genre_2          genre_3   genre_4 genre_5\n",
      "0     Action        Adventure  Science Fiction  Thriller    None\n",
      "1     Action        Adventure  Science Fiction  Thriller    None\n",
      "2  Adventure  Science Fiction         Thriller      None    None\n",
      "3     Action        Adventure  Science Fiction   Fantasy    None\n",
      "4     Action            Crime         Thriller      None    None\n"
     ]
    }
   ],
   "source": [
    "# Splitting the data in the genres column\n",
    "df_genres = (df['genres'].str.split('|', expand = True).rename(columns = lambda i: f\"genre_{i+1}\"))\n",
    "print(df_genres.head())"
   ]
  },
  {
   "cell_type": "markdown",
   "metadata": {},
   "source": [
    "> In the above cell, I splitted the genres column based on the '|' separator, and saved the splitted columns of genres into another dataframe: df_genres."
   ]
  },
  {
   "cell_type": "code",
   "execution_count": 15,
   "metadata": {},
   "outputs": [
    {
     "name": "stdout",
     "output_type": "stream",
     "text": [
      "        production_company_1        production_company_2  \\\n",
      "0          Universal Studios        Amblin Entertainment   \n",
      "1  Village Roadshow Pictures  Kennedy Miller Productions   \n",
      "2       Summit Entertainment            Mandeville Films   \n",
      "3                  Lucasfilm       Truenorth Productions   \n",
      "4         Universal Pictures               Original Film   \n",
      "\n",
      "      production_company_3     production_company_4 production_company_5  \n",
      "0       Legendary Pictures  Fuji Television Network               Dentsu  \n",
      "1                     None                     None                 None  \n",
      "2  Red Wagon Entertainment                  NeoReel                 None  \n",
      "3                Bad Robot                     None                 None  \n",
      "4     Media Rights Capital                   Dentsu       One Race Films  \n"
     ]
    }
   ],
   "source": [
    "# Splitting the data in the production_companies column\n",
    "df_production_companies = (df['production_companies'].str.split('|', expand = True).rename(columns = lambda i: f\"production_company_{i+1}\"))\n",
    "print(df_production_companies.head())"
   ]
  },
  {
   "cell_type": "markdown",
   "metadata": {},
   "source": [
    "> In the above cell, I splitted the production_companies column based on the '|' separator, and saved the splitted columns of production_companies into another dataframe: df_production_companies.\n",
    "\n",
    "> Further, I add all the new columns from the new four dataframes, into the cleaned dataframe, by using the join function on the dataframe. Also, I decide to drop the 'cast', 'keywords', 'genres', and, 'production_companies' - the original columns form the dataframe, as they are no longer needed now. I have also checked all the new column names below."
   ]
  },
  {
   "cell_type": "code",
   "execution_count": 16,
   "metadata": {},
   "outputs": [
    {
     "data": {
      "text/html": [
       "<div>\n",
       "<style scoped>\n",
       "    .dataframe tbody tr th:only-of-type {\n",
       "        vertical-align: middle;\n",
       "    }\n",
       "\n",
       "    .dataframe tbody tr th {\n",
       "        vertical-align: top;\n",
       "    }\n",
       "\n",
       "    .dataframe thead th {\n",
       "        text-align: right;\n",
       "    }\n",
       "</style>\n",
       "<table border=\"1\" class=\"dataframe\">\n",
       "  <thead>\n",
       "    <tr style=\"text-align: right;\">\n",
       "      <th></th>\n",
       "      <th>id</th>\n",
       "      <th>popularity</th>\n",
       "      <th>budget</th>\n",
       "      <th>revenue</th>\n",
       "      <th>original_title</th>\n",
       "      <th>cast</th>\n",
       "      <th>director</th>\n",
       "      <th>keywords</th>\n",
       "      <th>runtime</th>\n",
       "      <th>genres</th>\n",
       "      <th>...</th>\n",
       "      <th>genre_1</th>\n",
       "      <th>genre_2</th>\n",
       "      <th>genre_3</th>\n",
       "      <th>genre_4</th>\n",
       "      <th>genre_5</th>\n",
       "      <th>production_company_1</th>\n",
       "      <th>production_company_2</th>\n",
       "      <th>production_company_3</th>\n",
       "      <th>production_company_4</th>\n",
       "      <th>production_company_5</th>\n",
       "    </tr>\n",
       "  </thead>\n",
       "  <tbody>\n",
       "    <tr>\n",
       "      <td>0</td>\n",
       "      <td>135397</td>\n",
       "      <td>32.985763</td>\n",
       "      <td>150000000</td>\n",
       "      <td>1513528810</td>\n",
       "      <td>Jurassic World</td>\n",
       "      <td>Chris Pratt|Bryce Dallas Howard|Irrfan Khan|Vi...</td>\n",
       "      <td>Colin Trevorrow</td>\n",
       "      <td>monster|dna|tyrannosaurus rex|velociraptor|island</td>\n",
       "      <td>124</td>\n",
       "      <td>Action|Adventure|Science Fiction|Thriller</td>\n",
       "      <td>...</td>\n",
       "      <td>Action</td>\n",
       "      <td>Adventure</td>\n",
       "      <td>Science Fiction</td>\n",
       "      <td>Thriller</td>\n",
       "      <td>None</td>\n",
       "      <td>Universal Studios</td>\n",
       "      <td>Amblin Entertainment</td>\n",
       "      <td>Legendary Pictures</td>\n",
       "      <td>Fuji Television Network</td>\n",
       "      <td>Dentsu</td>\n",
       "    </tr>\n",
       "    <tr>\n",
       "      <td>1</td>\n",
       "      <td>76341</td>\n",
       "      <td>28.419936</td>\n",
       "      <td>150000000</td>\n",
       "      <td>378436354</td>\n",
       "      <td>Mad Max: Fury Road</td>\n",
       "      <td>Tom Hardy|Charlize Theron|Hugh Keays-Byrne|Nic...</td>\n",
       "      <td>George Miller</td>\n",
       "      <td>future|chase|post-apocalyptic|dystopia|australia</td>\n",
       "      <td>120</td>\n",
       "      <td>Action|Adventure|Science Fiction|Thriller</td>\n",
       "      <td>...</td>\n",
       "      <td>Action</td>\n",
       "      <td>Adventure</td>\n",
       "      <td>Science Fiction</td>\n",
       "      <td>Thriller</td>\n",
       "      <td>None</td>\n",
       "      <td>Village Roadshow Pictures</td>\n",
       "      <td>Kennedy Miller Productions</td>\n",
       "      <td>None</td>\n",
       "      <td>None</td>\n",
       "      <td>None</td>\n",
       "    </tr>\n",
       "    <tr>\n",
       "      <td>2</td>\n",
       "      <td>262500</td>\n",
       "      <td>13.112507</td>\n",
       "      <td>110000000</td>\n",
       "      <td>295238201</td>\n",
       "      <td>Insurgent</td>\n",
       "      <td>Shailene Woodley|Theo James|Kate Winslet|Ansel...</td>\n",
       "      <td>Robert Schwentke</td>\n",
       "      <td>based on novel|revolution|dystopia|sequel|dyst...</td>\n",
       "      <td>119</td>\n",
       "      <td>Adventure|Science Fiction|Thriller</td>\n",
       "      <td>...</td>\n",
       "      <td>Adventure</td>\n",
       "      <td>Science Fiction</td>\n",
       "      <td>Thriller</td>\n",
       "      <td>None</td>\n",
       "      <td>None</td>\n",
       "      <td>Summit Entertainment</td>\n",
       "      <td>Mandeville Films</td>\n",
       "      <td>Red Wagon Entertainment</td>\n",
       "      <td>NeoReel</td>\n",
       "      <td>None</td>\n",
       "    </tr>\n",
       "    <tr>\n",
       "      <td>3</td>\n",
       "      <td>140607</td>\n",
       "      <td>11.173104</td>\n",
       "      <td>200000000</td>\n",
       "      <td>2068178225</td>\n",
       "      <td>Star Wars: The Force Awakens</td>\n",
       "      <td>Harrison Ford|Mark Hamill|Carrie Fisher|Adam D...</td>\n",
       "      <td>J.J. Abrams</td>\n",
       "      <td>android|spaceship|jedi|space opera|3d</td>\n",
       "      <td>136</td>\n",
       "      <td>Action|Adventure|Science Fiction|Fantasy</td>\n",
       "      <td>...</td>\n",
       "      <td>Action</td>\n",
       "      <td>Adventure</td>\n",
       "      <td>Science Fiction</td>\n",
       "      <td>Fantasy</td>\n",
       "      <td>None</td>\n",
       "      <td>Lucasfilm</td>\n",
       "      <td>Truenorth Productions</td>\n",
       "      <td>Bad Robot</td>\n",
       "      <td>None</td>\n",
       "      <td>None</td>\n",
       "    </tr>\n",
       "    <tr>\n",
       "      <td>4</td>\n",
       "      <td>168259</td>\n",
       "      <td>9.335014</td>\n",
       "      <td>190000000</td>\n",
       "      <td>1506249360</td>\n",
       "      <td>Furious 7</td>\n",
       "      <td>Vin Diesel|Paul Walker|Jason Statham|Michelle ...</td>\n",
       "      <td>James Wan</td>\n",
       "      <td>car race|speed|revenge|suspense|car</td>\n",
       "      <td>137</td>\n",
       "      <td>Action|Crime|Thriller</td>\n",
       "      <td>...</td>\n",
       "      <td>Action</td>\n",
       "      <td>Crime</td>\n",
       "      <td>Thriller</td>\n",
       "      <td>None</td>\n",
       "      <td>None</td>\n",
       "      <td>Universal Pictures</td>\n",
       "      <td>Original Film</td>\n",
       "      <td>Media Rights Capital</td>\n",
       "      <td>Dentsu</td>\n",
       "      <td>One Race Films</td>\n",
       "    </tr>\n",
       "  </tbody>\n",
       "</table>\n",
       "<p>5 rows × 35 columns</p>\n",
       "</div>"
      ],
      "text/plain": [
       "       id  popularity     budget     revenue                original_title  \\\n",
       "0  135397   32.985763  150000000  1513528810                Jurassic World   \n",
       "1   76341   28.419936  150000000   378436354            Mad Max: Fury Road   \n",
       "2  262500   13.112507  110000000   295238201                     Insurgent   \n",
       "3  140607   11.173104  200000000  2068178225  Star Wars: The Force Awakens   \n",
       "4  168259    9.335014  190000000  1506249360                     Furious 7   \n",
       "\n",
       "                                                cast          director  \\\n",
       "0  Chris Pratt|Bryce Dallas Howard|Irrfan Khan|Vi...   Colin Trevorrow   \n",
       "1  Tom Hardy|Charlize Theron|Hugh Keays-Byrne|Nic...     George Miller   \n",
       "2  Shailene Woodley|Theo James|Kate Winslet|Ansel...  Robert Schwentke   \n",
       "3  Harrison Ford|Mark Hamill|Carrie Fisher|Adam D...       J.J. Abrams   \n",
       "4  Vin Diesel|Paul Walker|Jason Statham|Michelle ...         James Wan   \n",
       "\n",
       "                                            keywords  runtime  \\\n",
       "0  monster|dna|tyrannosaurus rex|velociraptor|island      124   \n",
       "1   future|chase|post-apocalyptic|dystopia|australia      120   \n",
       "2  based on novel|revolution|dystopia|sequel|dyst...      119   \n",
       "3              android|spaceship|jedi|space opera|3d      136   \n",
       "4                car race|speed|revenge|suspense|car      137   \n",
       "\n",
       "                                      genres  ...    genre_1          genre_2  \\\n",
       "0  Action|Adventure|Science Fiction|Thriller  ...     Action        Adventure   \n",
       "1  Action|Adventure|Science Fiction|Thriller  ...     Action        Adventure   \n",
       "2         Adventure|Science Fiction|Thriller  ...  Adventure  Science Fiction   \n",
       "3   Action|Adventure|Science Fiction|Fantasy  ...     Action        Adventure   \n",
       "4                      Action|Crime|Thriller  ...     Action            Crime   \n",
       "\n",
       "           genre_3   genre_4  genre_5       production_company_1  \\\n",
       "0  Science Fiction  Thriller     None          Universal Studios   \n",
       "1  Science Fiction  Thriller     None  Village Roadshow Pictures   \n",
       "2         Thriller      None     None       Summit Entertainment   \n",
       "3  Science Fiction   Fantasy     None                  Lucasfilm   \n",
       "4         Thriller      None     None         Universal Pictures   \n",
       "\n",
       "         production_company_2     production_company_3  \\\n",
       "0        Amblin Entertainment       Legendary Pictures   \n",
       "1  Kennedy Miller Productions                     None   \n",
       "2            Mandeville Films  Red Wagon Entertainment   \n",
       "3       Truenorth Productions                Bad Robot   \n",
       "4               Original Film     Media Rights Capital   \n",
       "\n",
       "      production_company_4 production_company_5  \n",
       "0  Fuji Television Network               Dentsu  \n",
       "1                     None                 None  \n",
       "2                  NeoReel                 None  \n",
       "3                     None                 None  \n",
       "4                   Dentsu       One Race Films  \n",
       "\n",
       "[5 rows x 35 columns]"
      ]
     },
     "execution_count": 16,
     "metadata": {},
     "output_type": "execute_result"
    }
   ],
   "source": [
    "# Joining all the columns created above to the original dataframe\n",
    "df = df.join([df_cast, df_keywords, df_genres, df_production_companies])\n",
    "df.head()"
   ]
  },
  {
   "cell_type": "code",
   "execution_count": 17,
   "metadata": {},
   "outputs": [
    {
     "data": {
      "text/html": [
       "<div>\n",
       "<style scoped>\n",
       "    .dataframe tbody tr th:only-of-type {\n",
       "        vertical-align: middle;\n",
       "    }\n",
       "\n",
       "    .dataframe tbody tr th {\n",
       "        vertical-align: top;\n",
       "    }\n",
       "\n",
       "    .dataframe thead th {\n",
       "        text-align: right;\n",
       "    }\n",
       "</style>\n",
       "<table border=\"1\" class=\"dataframe\">\n",
       "  <thead>\n",
       "    <tr style=\"text-align: right;\">\n",
       "      <th></th>\n",
       "      <th>id</th>\n",
       "      <th>popularity</th>\n",
       "      <th>budget</th>\n",
       "      <th>revenue</th>\n",
       "      <th>original_title</th>\n",
       "      <th>director</th>\n",
       "      <th>runtime</th>\n",
       "      <th>release_date</th>\n",
       "      <th>vote_count</th>\n",
       "      <th>vote_average</th>\n",
       "      <th>...</th>\n",
       "      <th>genre_1</th>\n",
       "      <th>genre_2</th>\n",
       "      <th>genre_3</th>\n",
       "      <th>genre_4</th>\n",
       "      <th>genre_5</th>\n",
       "      <th>production_company_1</th>\n",
       "      <th>production_company_2</th>\n",
       "      <th>production_company_3</th>\n",
       "      <th>production_company_4</th>\n",
       "      <th>production_company_5</th>\n",
       "    </tr>\n",
       "  </thead>\n",
       "  <tbody>\n",
       "    <tr>\n",
       "      <td>0</td>\n",
       "      <td>135397</td>\n",
       "      <td>32.985763</td>\n",
       "      <td>150000000</td>\n",
       "      <td>1513528810</td>\n",
       "      <td>Jurassic World</td>\n",
       "      <td>Colin Trevorrow</td>\n",
       "      <td>124</td>\n",
       "      <td>6/9/15</td>\n",
       "      <td>5562</td>\n",
       "      <td>6.5</td>\n",
       "      <td>...</td>\n",
       "      <td>Action</td>\n",
       "      <td>Adventure</td>\n",
       "      <td>Science Fiction</td>\n",
       "      <td>Thriller</td>\n",
       "      <td>None</td>\n",
       "      <td>Universal Studios</td>\n",
       "      <td>Amblin Entertainment</td>\n",
       "      <td>Legendary Pictures</td>\n",
       "      <td>Fuji Television Network</td>\n",
       "      <td>Dentsu</td>\n",
       "    </tr>\n",
       "    <tr>\n",
       "      <td>1</td>\n",
       "      <td>76341</td>\n",
       "      <td>28.419936</td>\n",
       "      <td>150000000</td>\n",
       "      <td>378436354</td>\n",
       "      <td>Mad Max: Fury Road</td>\n",
       "      <td>George Miller</td>\n",
       "      <td>120</td>\n",
       "      <td>5/13/15</td>\n",
       "      <td>6185</td>\n",
       "      <td>7.1</td>\n",
       "      <td>...</td>\n",
       "      <td>Action</td>\n",
       "      <td>Adventure</td>\n",
       "      <td>Science Fiction</td>\n",
       "      <td>Thriller</td>\n",
       "      <td>None</td>\n",
       "      <td>Village Roadshow Pictures</td>\n",
       "      <td>Kennedy Miller Productions</td>\n",
       "      <td>None</td>\n",
       "      <td>None</td>\n",
       "      <td>None</td>\n",
       "    </tr>\n",
       "    <tr>\n",
       "      <td>2</td>\n",
       "      <td>262500</td>\n",
       "      <td>13.112507</td>\n",
       "      <td>110000000</td>\n",
       "      <td>295238201</td>\n",
       "      <td>Insurgent</td>\n",
       "      <td>Robert Schwentke</td>\n",
       "      <td>119</td>\n",
       "      <td>3/18/15</td>\n",
       "      <td>2480</td>\n",
       "      <td>6.3</td>\n",
       "      <td>...</td>\n",
       "      <td>Adventure</td>\n",
       "      <td>Science Fiction</td>\n",
       "      <td>Thriller</td>\n",
       "      <td>None</td>\n",
       "      <td>None</td>\n",
       "      <td>Summit Entertainment</td>\n",
       "      <td>Mandeville Films</td>\n",
       "      <td>Red Wagon Entertainment</td>\n",
       "      <td>NeoReel</td>\n",
       "      <td>None</td>\n",
       "    </tr>\n",
       "    <tr>\n",
       "      <td>3</td>\n",
       "      <td>140607</td>\n",
       "      <td>11.173104</td>\n",
       "      <td>200000000</td>\n",
       "      <td>2068178225</td>\n",
       "      <td>Star Wars: The Force Awakens</td>\n",
       "      <td>J.J. Abrams</td>\n",
       "      <td>136</td>\n",
       "      <td>12/15/15</td>\n",
       "      <td>5292</td>\n",
       "      <td>7.5</td>\n",
       "      <td>...</td>\n",
       "      <td>Action</td>\n",
       "      <td>Adventure</td>\n",
       "      <td>Science Fiction</td>\n",
       "      <td>Fantasy</td>\n",
       "      <td>None</td>\n",
       "      <td>Lucasfilm</td>\n",
       "      <td>Truenorth Productions</td>\n",
       "      <td>Bad Robot</td>\n",
       "      <td>None</td>\n",
       "      <td>None</td>\n",
       "    </tr>\n",
       "    <tr>\n",
       "      <td>4</td>\n",
       "      <td>168259</td>\n",
       "      <td>9.335014</td>\n",
       "      <td>190000000</td>\n",
       "      <td>1506249360</td>\n",
       "      <td>Furious 7</td>\n",
       "      <td>James Wan</td>\n",
       "      <td>137</td>\n",
       "      <td>4/1/15</td>\n",
       "      <td>2947</td>\n",
       "      <td>7.3</td>\n",
       "      <td>...</td>\n",
       "      <td>Action</td>\n",
       "      <td>Crime</td>\n",
       "      <td>Thriller</td>\n",
       "      <td>None</td>\n",
       "      <td>None</td>\n",
       "      <td>Universal Pictures</td>\n",
       "      <td>Original Film</td>\n",
       "      <td>Media Rights Capital</td>\n",
       "      <td>Dentsu</td>\n",
       "      <td>One Race Films</td>\n",
       "    </tr>\n",
       "  </tbody>\n",
       "</table>\n",
       "<p>5 rows × 31 columns</p>\n",
       "</div>"
      ],
      "text/plain": [
       "       id  popularity     budget     revenue                original_title  \\\n",
       "0  135397   32.985763  150000000  1513528810                Jurassic World   \n",
       "1   76341   28.419936  150000000   378436354            Mad Max: Fury Road   \n",
       "2  262500   13.112507  110000000   295238201                     Insurgent   \n",
       "3  140607   11.173104  200000000  2068178225  Star Wars: The Force Awakens   \n",
       "4  168259    9.335014  190000000  1506249360                     Furious 7   \n",
       "\n",
       "           director  runtime release_date  vote_count  vote_average  ...  \\\n",
       "0   Colin Trevorrow      124       6/9/15        5562           6.5  ...   \n",
       "1     George Miller      120      5/13/15        6185           7.1  ...   \n",
       "2  Robert Schwentke      119      3/18/15        2480           6.3  ...   \n",
       "3       J.J. Abrams      136     12/15/15        5292           7.5  ...   \n",
       "4         James Wan      137       4/1/15        2947           7.3  ...   \n",
       "\n",
       "     genre_1          genre_2          genre_3   genre_4 genre_5  \\\n",
       "0     Action        Adventure  Science Fiction  Thriller    None   \n",
       "1     Action        Adventure  Science Fiction  Thriller    None   \n",
       "2  Adventure  Science Fiction         Thriller      None    None   \n",
       "3     Action        Adventure  Science Fiction   Fantasy    None   \n",
       "4     Action            Crime         Thriller      None    None   \n",
       "\n",
       "        production_company_1        production_company_2  \\\n",
       "0          Universal Studios        Amblin Entertainment   \n",
       "1  Village Roadshow Pictures  Kennedy Miller Productions   \n",
       "2       Summit Entertainment            Mandeville Films   \n",
       "3                  Lucasfilm       Truenorth Productions   \n",
       "4         Universal Pictures               Original Film   \n",
       "\n",
       "      production_company_3     production_company_4 production_company_5  \n",
       "0       Legendary Pictures  Fuji Television Network               Dentsu  \n",
       "1                     None                     None                 None  \n",
       "2  Red Wagon Entertainment                  NeoReel                 None  \n",
       "3                Bad Robot                     None                 None  \n",
       "4     Media Rights Capital                   Dentsu       One Race Films  \n",
       "\n",
       "[5 rows x 31 columns]"
      ]
     },
     "execution_count": 17,
     "metadata": {},
     "output_type": "execute_result"
    }
   ],
   "source": [
    "# Dropping the unwanted columns from the dataframe\n",
    "df = df.drop(['cast', 'keywords', 'genres', 'production_companies'], axis=1)\n",
    "df.head()"
   ]
  },
  {
   "cell_type": "code",
   "execution_count": 18,
   "metadata": {},
   "outputs": [
    {
     "data": {
      "text/plain": [
       "Index(['id', 'popularity', 'budget', 'revenue', 'original_title', 'director',\n",
       "       'runtime', 'release_date', 'vote_count', 'vote_average', 'release_year',\n",
       "       'cast_1', 'cast_2', 'cast_3', 'cast_4', 'cast_5', 'keyword_1',\n",
       "       'keyword_2', 'keyword_3', 'keyword_4', 'keyword_5', 'genre_1',\n",
       "       'genre_2', 'genre_3', 'genre_4', 'genre_5', 'production_company_1',\n",
       "       'production_company_2', 'production_company_3', 'production_company_4',\n",
       "       'production_company_5'],\n",
       "      dtype='object')"
      ]
     },
     "execution_count": 18,
     "metadata": {},
     "output_type": "execute_result"
    }
   ],
   "source": [
    "# Checking the column names\n",
    "df.columns"
   ]
  },
  {
   "cell_type": "code",
   "execution_count": 19,
   "metadata": {},
   "outputs": [
    {
     "data": {
      "image/png": "[encoded data removed]",
      "text/plain": [
       "<Figure size 1008x1008 with 9 Axes>"
      ]
     },
     "metadata": {
      "needs_background": "light"
     },
     "output_type": "display_data"
    }
   ],
   "source": [
    "df.hist(figsize=(14, 14));"
   ]
  },
  {
   "cell_type": "markdown",
   "metadata": {},
   "source": [
    "> From the above plots, we can see that, there are some movies with budget and revenue zero. Also, by looking at the plot of release_year, we can say that the popularity of movies increased gradually since 1960s."
   ]
  },
  {
   "cell_type": "markdown",
   "metadata": {},
   "source": [
    "<a id='eda'></a>\n",
    "## Exploratory Data Analysis\n",
    "\n",
    "> According to my understanding of the dataset, the 'Popularity' and the 'Rating', these two variables are the dependent variables and the rest are the independent variables.\n",
    "\n",
    "### Research Question 1: What is the trend and hence, popularity of the movies over the period of time?"
   ]
  },
  {
   "cell_type": "code",
   "execution_count": 20,
   "metadata": {},
   "outputs": [],
   "source": [
    "# Calculating the median for popularity for each year\n",
    "popularity_median = df.groupby('release_year').median()['popularity']\n",
    "#print(popularity_median)"
   ]
  },
  {
   "cell_type": "code",
   "execution_count": 21,
   "metadata": {},
   "outputs": [
    {
     "name": "stdout",
     "output_type": "stream",
     "text": [
      "Int64Index([1960, 1961, 1962, 1963, 1964, 1965, 1966, 1967, 1968, 1969, 1970,\n",
      "            1971, 1972, 1973, 1974, 1975, 1976, 1977, 1978, 1979, 1980, 1981,\n",
      "            1982, 1983, 1984, 1985, 1986, 1987, 1988, 1989, 1990, 1991, 1992,\n",
      "            1993, 1994, 1995, 1996, 1997, 1998, 1999, 2000, 2001, 2002, 2003,\n",
      "            2004, 2005, 2006, 2007, 2008, 2009, 2010, 2011, 2012, 2013, 2014,\n",
      "            2015],\n",
      "           dtype='int64', name='release_year')\n"
     ]
    }
   ],
   "source": [
    "# Creating the index locations\n",
    "indexes = popularity_median.index\n",
    "print(indexes)"
   ]
  },
  {
   "cell_type": "code",
   "execution_count": 22,
   "metadata": {},
   "outputs": [
    {
     "data": {
      "text/plain": [
       "Text(0, 0.5, 'Popularity')"
      ]
     },
     "execution_count": 22,
     "metadata": {},
     "output_type": "execute_result"
    },
    {
     "data": {
      "image/png": "[encoded data removed]",
      "text/plain": [
       "<Figure size 864x432 with 1 Axes>"
      ]
     },
     "metadata": {
      "needs_background": "light"
     },
     "output_type": "display_data"
    }
   ],
   "source": [
    "# Assigning the x axis and y axis data\n",
    "x, y = indexes, popularity_median\n",
    "\n",
    "plt.figure(figsize=(12, 6))\n",
    "\n",
    "# Plotting the line chart\n",
    "plt.plot(x, y, color = 'b')\n",
    "\n",
    "# Assigning the title to the plot\n",
    "plt.title('Popularity of the moives over the period of years')\n",
    "\n",
    "# Assigning the x and y axis labels to the plot\n",
    "plt.xlabel('Year')\n",
    "plt.ylabel('Popularity')"
   ]
  },
  {
   "cell_type": "markdown",
   "metadata": {},
   "source": [
    "> To check the trend of the popularity of the movies over the years since 1960 to 2015, I calculated the median of the popularity, in order to nullify, if any, effects of the outliers in the values of the popularity. I have plotted this trend, and from the above plot we can see that the popularity of the movies has been increasing over the period. This is obvious as the ways to have access to the movies developed over the time. Also, with the increased work pressure, people do look out for options to give themselves some break to realx and entertain, and movies seem to be easy option nowadays!"
   ]
  },
  {
   "cell_type": "markdown",
   "metadata": {},
   "source": [
    "### Research Question 2: In which year the movie release count was highest?"
   ]
  },
  {
   "cell_type": "code",
   "execution_count": 23,
   "metadata": {},
   "outputs": [],
   "source": [
    "# Calculating the movie count according to release year\n",
    "movie_count = df.groupby('release_year').count()['id']\n",
    "#print(movie_count)"
   ]
  },
  {
   "cell_type": "code",
   "execution_count": 24,
   "metadata": {},
   "outputs": [
    {
     "data": {
      "text/plain": [
       "Text(0, 0.5, 'Movie count')"
      ]
     },
     "execution_count": 24,
     "metadata": {},
     "output_type": "execute_result"
    },
    {
     "data": {
      "image/png": "[encoded data removed]",
      "text/plain": [
       "<Figure size 864x360 with 1 Axes>"
      ]
     },
     "metadata": {
      "needs_background": "light"
     },
     "output_type": "display_data"
    }
   ],
   "source": [
    "# Setting the size for plot\n",
    "plt.figure(figsize=(12, 5))\n",
    "\n",
    "# Grouping the dataframe by release year and plotting the data\n",
    "df.groupby('release_year').count()['id'].plot(xticks = np.arange(1960, 2018, 3))\n",
    "\n",
    "# Setting the title for the plot\n",
    "plt.title(\"Movie release count according to years\")\n",
    "\n",
    "# Setting the x and y axes label titles\n",
    "plt.xlabel('Release year')\n",
    "plt.ylabel('Movie count')"
   ]
  },
  {
   "cell_type": "markdown",
   "metadata": {},
   "source": [
    "> From the above plot, we can see that the count of movies benig released kept on increasing gradually over the years. The increase actually hyped after 1999. The highest number of releases being in the year 2014, which is around 700. "
   ]
  },
  {
   "cell_type": "markdown",
   "metadata": {},
   "source": [
    "### Research Question 3: Which are the movies with highest and least budgets? "
   ]
  },
  {
   "cell_type": "code",
   "execution_count": 25,
   "metadata": {},
   "outputs": [
    {
     "name": "stdout",
     "output_type": "stream",
     "text": [
      "Movie with highest budget is: The Warrior's Way. Budget is: 2244\n",
      "Movie with least budget is: Mr. Holmes. Budget is: 30\n"
     ]
    }
   ],
   "source": [
    "# Calculating the maximum value of the budget\n",
    "highest_budget_index = df['budget'].idxmax()\n",
    "#print(highest_budget_index)\n",
    "\n",
    "# Calculating the minimum value of the budget\n",
    "least_budget_index = df['budget'].idxmin()\n",
    "#print(least_budget_index)\n",
    "\n",
    "# Creating a dataframe including the record with maximum budget only\n",
    "highest_budget = pd.DataFrame(df.loc[highest_budget_index, :])\n",
    "\n",
    "# Creating a dataframe including the record with minimum budget only\n",
    "lowest_budget = pd.DataFrame(df.loc[least_budget_index, :])\n",
    "\n",
    "# Displaying the maximum and the minimum budget movie title and the budget amount\n",
    "print(\"Movie with highest budget is: \" + str(df['original_title'][highest_budget_index]) + \". Budget is: \" + str(highest_budget_index))\n",
    "print(\"Movie with least budget is: \" + str(df['original_title'][least_budget_index]) + \". Budget is: \" + str(least_budget_index))"
   ]
  },
  {
   "cell_type": "markdown",
   "metadata": {},
   "source": [
    "### Research Question 4: Which are the movies with highest and least revenues? "
   ]
  },
  {
   "cell_type": "code",
   "execution_count": 26,
   "metadata": {},
   "outputs": [
    {
     "name": "stdout",
     "output_type": "stream",
     "text": [
      "Movie with highest revenue is: Avatar. Revenue is: 1386\n",
      "Movie with least revenue is: Wild Card. Revenue is: 48\n"
     ]
    }
   ],
   "source": [
    "# Calculating the maximum value of the revenue\n",
    "highest_revenue_index = df['revenue'].idxmax()\n",
    "#print(highest_revenue_index)\n",
    "\n",
    "# Calculating the minimum value of the revenue\n",
    "least_revenue_index = df['revenue'].idxmin()\n",
    "#print(least_revenue_index)\n",
    "\n",
    "# Creating a dataframe including the record with maximum revenue only\n",
    "highest_revenue = pd.DataFrame(df.loc[highest_revenue_index, :])\n",
    "\n",
    "# Creating a dataframe including the record with minimum revenue only\n",
    "lowest_revenue = pd.DataFrame(df.loc[least_revenue_index, :])\n",
    "\n",
    "# Displaying the maximum and the minimum revenue movie title and the revenue amount\n",
    "print(\"Movie with highest revenue is: \" + str(df['original_title'][highest_revenue_index]) + \". Revenue is: \" + str(highest_revenue_index))\n",
    "print(\"Movie with least revenue is: \" + str(df['original_title'][least_revenue_index]) + \". Revenue is: \" + str(least_revenue_index))"
   ]
  },
  {
   "cell_type": "markdown",
   "metadata": {},
   "source": [
    "### Research Question 5: Which are the movies with highest and least profits? "
   ]
  },
  {
   "cell_type": "code",
   "execution_count": 27,
   "metadata": {},
   "outputs": [
    {
     "name": "stdout",
     "output_type": "stream",
     "text": [
      "0    1363528810\n",
      "1     228436354\n",
      "2     185238201\n",
      "3    1868178225\n",
      "4    1316249360\n",
      "Name: profit, dtype: int64\n"
     ]
    }
   ],
   "source": [
    "# Calculating and adding an additional column of profit in the dataframe\n",
    "df['profit'] = df['revenue'] - df['budget']\n",
    "print(df['profit'].head())"
   ]
  },
  {
   "cell_type": "code",
   "execution_count": 28,
   "metadata": {},
   "outputs": [
    {
     "name": "stdout",
     "output_type": "stream",
     "text": [
      "Movie with highest profit is: Avatar. Profit is: 1386\n",
      "Movie with least profit is: The Warrior's Way. Profit is: 2244\n"
     ]
    }
   ],
   "source": [
    "# Calculating the maximum value of the profit\n",
    "highest_profit_index = df['profit'].idxmax()\n",
    "#print(highest_profit_index)\n",
    "\n",
    "# Calculating the minimum value of the profit\n",
    "least_profit_index = df['profit'].idxmin()\n",
    "#print(least_profit_index)\n",
    "\n",
    "# Creating a dataframe including the record with maximum profit only\n",
    "highest_profit = pd.DataFrame(df.loc[highest_profit_index, :])\n",
    "\n",
    "# Creating a dataframe including the record with minimum profit only\n",
    "lowest_profit = pd.DataFrame(df.loc[least_profit_index, :])\n",
    "\n",
    "# Displaying the maximum and the minimum profit movie title and the profit amount\n",
    "print(\"Movie with highest profit is: \" + str(df['original_title'][highest_profit_index]) + \". Profit is: \" + str(highest_profit_index))\n",
    "print(\"Movie with least profit is: \" + str(df['original_title'][least_profit_index]) + \". Profit is: \" + str(least_profit_index))"
   ]
  },
  {
   "cell_type": "markdown",
   "metadata": {},
   "source": [
    "### Research Question 6: Which are the movies with highest and least number of votes? "
   ]
  },
  {
   "cell_type": "code",
   "execution_count": 29,
   "metadata": {},
   "outputs": [
    {
     "name": "stdout",
     "output_type": "stream",
     "text": [
      "Movie with highest number of votes is: Inception. Number of votes is: 1919\n",
      "Movie with least number of votes is: The Unspoken. Number of votes is: 240\n"
     ]
    }
   ],
   "source": [
    "# Calculating the maximum number of votes\n",
    "highest_vote_count_index = df['vote_count'].idxmax()\n",
    "#print(highest_vote_count_index)\n",
    "\n",
    "# Calculating the minimum number of votes\n",
    "least_vote_count_index = df['vote_count'].idxmin()\n",
    "#print(least_vote_count_index)\n",
    "\n",
    "# Creating a dataframe including the record with maximum number of votes only\n",
    "highest_vote_count = pd.DataFrame(df.loc[highest_vote_count_index, :])\n",
    "\n",
    "# Creating a dataframe including the record with minimum number of votes only\n",
    "lowest_vote_count = pd.DataFrame(df.loc[least_vote_count_index, :])\n",
    "\n",
    "# Displaying the maximum and the minimum number of votes, movie title and the vote count\n",
    "print(\"Movie with highest number of votes is: \" + str(df['original_title'][highest_vote_count_index]) + \". Number of votes is: \" + str(highest_vote_count_index))\n",
    "print(\"Movie with least number of votes is: \" + str(df['original_title'][least_vote_count_index]) + \". Number of votes is: \" + str(least_vote_count_index))"
   ]
  },
  {
   "cell_type": "markdown",
   "metadata": {},
   "source": [
    "### Research Question 7: Which are the top 5 movies with highest budget? "
   ]
  },
  {
   "cell_type": "code",
   "execution_count": 30,
   "metadata": {
    "scrolled": false
   },
   "outputs": [
    {
     "data": {
      "text/plain": [
       "Text(0, 0.5, 'Movie Names')"
      ]
     },
     "execution_count": 30,
     "metadata": {},
     "output_type": "execute_result"
    },
    {
     "data": {
      "image/png": "[encoded data removed]",
      "text/plain": [
       "<Figure size 432x288 with 1 Axes>"
      ]
     },
     "metadata": {
      "needs_background": "light"
     },
     "output_type": "display_data"
    }
   ],
   "source": [
    "# Creating a dataframe by sorting the values in the budget column in the descending order\n",
    "df1 = pd.DataFrame(df['budget'].sort_values(ascending = False))\n",
    "df1['original_title'] = df['original_title']\n",
    "df1_data = list(map(str, (df1['original_title'])))\n",
    "#print(df1_data)\n",
    "\n",
    "# Creating a list of top five movie names\n",
    "movie_names = list(df1_data[:5])\n",
    "\n",
    "# Creating a list of top five movie budgets\n",
    "movie_budget = list(df1['budget'][:5])\n",
    "\n",
    "# Plotting the movie names and the movie budgets\n",
    "ax = sns.pointplot(x = movie_budget, y = movie_names)\n",
    "\n",
    "# Setting the title for the plot\n",
    "ax.set_title(\"The top 5 movies with highest budget\")\n",
    "\n",
    "# Setting the x and y axes labels for the plot\n",
    "ax.set_xlabel(\"Movie Budget\")\n",
    "ax.set_ylabel(\"Movie Names\")"
   ]
  },
  {
   "cell_type": "markdown",
   "metadata": {},
   "source": [
    "> From the above plot, we can see that, the movies: The Warrior's Way, Pirates of the Caribbean: On Stranger Tides, Pirates of the Caribbean: At World's End, Avengers: Age of Ultron, and Superman Returns, have the highest budget of all the movies since 1960, till 2015."
   ]
  },
  {
   "cell_type": "markdown",
   "metadata": {},
   "source": [
    "### Research Question 8: Which are the top 5 movies with highest revenues? "
   ]
  },
  {
   "cell_type": "code",
   "execution_count": 31,
   "metadata": {},
   "outputs": [
    {
     "data": {
      "text/plain": [
       "Text(0, 0.5, 'Movie Names')"
      ]
     },
     "execution_count": 31,
     "metadata": {},
     "output_type": "execute_result"
    },
    {
     "data": {
      "image/png": "[encoded data removed]",
      "text/plain": [
       "<Figure size 432x288 with 1 Axes>"
      ]
     },
     "metadata": {
      "needs_background": "light"
     },
     "output_type": "display_data"
    }
   ],
   "source": [
    "# Creating a dataframe by sorting the values in the revenue column in the descending order\n",
    "df2 = pd.DataFrame(df['revenue'].sort_values(ascending = False))\n",
    "df2['original_title'] = df['original_title']\n",
    "df2_data = list(map(str, (df2['original_title'])))\n",
    "#print(df2_data)\n",
    "\n",
    "# Creating a list of top five movie names\n",
    "movie_names = list(df2_data[:5])\n",
    "\n",
    "# Creating a list of top five movie revenues\n",
    "movie_revenue = list(df2['revenue'][:5])\n",
    "\n",
    "# Plotting the movie names and the movie revenues\n",
    "ax = sns.pointplot(x = movie_revenue, y = movie_names)\n",
    "\n",
    "# Setting the title for the plot\n",
    "ax.set_title(\"The top 5 movies with highest revenue\")\n",
    "\n",
    "# Setting the x and y axes labels for the plot\n",
    "ax.set_xlabel(\"Movie revenue\")\n",
    "ax.set_ylabel(\"Movie Names\")"
   ]
  },
  {
   "cell_type": "markdown",
   "metadata": {},
   "source": [
    "> From the above plot, we can see that, the movies: Avatar, Star Wars: The Force Awakens, Titanic, The Avengers, and Jurassic Worldl, have the highest revenues of all the movies since 1960, till 2015."
   ]
  },
  {
   "cell_type": "markdown",
   "metadata": {},
   "source": [
    "### Research Question 9: Which are the top 5 movies with highest profits? "
   ]
  },
  {
   "cell_type": "code",
   "execution_count": 32,
   "metadata": {},
   "outputs": [
    {
     "data": {
      "text/plain": [
       "Text(0, 0.5, 'Movie Names')"
      ]
     },
     "execution_count": 32,
     "metadata": {},
     "output_type": "execute_result"
    },
    {
     "data": {
      "image/png": "[encoded data removed]",
      "text/plain": [
       "<Figure size 432x288 with 1 Axes>"
      ]
     },
     "metadata": {
      "needs_background": "light"
     },
     "output_type": "display_data"
    }
   ],
   "source": [
    "# Creating a dataframe by sorting the values in the profit column in the descending order\n",
    "df3 = pd.DataFrame(df['profit'].sort_values(ascending = False))\n",
    "df3['original_title'] = df['original_title']\n",
    "df3_data = list(map(str, (df3['original_title'])))\n",
    "#print(df2_data)\n",
    "\n",
    "# Creating a list of top five movie names\n",
    "movie_names = list(df3_data[:5])\n",
    "\n",
    "# Creating a list of top five movie profits\n",
    "movie_profit = list(df3['profit'][:5])\n",
    "\n",
    "# Plotting the movie names and the movie profits\n",
    "ax = sns.pointplot(x = movie_profit, y = movie_names)\n",
    "\n",
    "# Setting the title for the plot\n",
    "ax.set_title(\"The top 5 movies with highest profit\")\n",
    "\n",
    "# Setting the x and y axes labels for the plot\n",
    "ax.set_xlabel(\"Movie profit\")\n",
    "ax.set_ylabel(\"Movie Names\")"
   ]
  },
  {
   "cell_type": "markdown",
   "metadata": {},
   "source": [
    "> From the above plot, we can see that, the movies: Avatar, Star Wars: The Force Awakens, Titanic, Jurassic World, and Furious 7, have earned the highest profit of all the movies since 1960, till 2015."
   ]
  },
  {
   "cell_type": "markdown",
   "metadata": {},
   "source": [
    "### Research Question 10: Which are the top 5 movies with the highest number of votes?"
   ]
  },
  {
   "cell_type": "code",
   "execution_count": 33,
   "metadata": {},
   "outputs": [
    {
     "data": {
      "text/plain": [
       "Text(0, 0.5, 'Movie Names')"
      ]
     },
     "execution_count": 33,
     "metadata": {},
     "output_type": "execute_result"
    },
    {
     "data": {
      "image/png": "[encoded data removed]",
      "text/plain": [
       "<Figure size 432x288 with 1 Axes>"
      ]
     },
     "metadata": {
      "needs_background": "light"
     },
     "output_type": "display_data"
    }
   ],
   "source": [
    "# Creating a dataframe by sorting the values in the vote_count column in the descending order\n",
    "df4 = pd.DataFrame(df['vote_count'].sort_values(ascending = False))\n",
    "df4['original_title'] = df['original_title']\n",
    "df4_data = list(map(str, (df4['original_title'])))\n",
    "#print(df4_data)\n",
    "\n",
    "# Creating a list of top five movie names\n",
    "movie_names = list(df4_data[:5])\n",
    "\n",
    "# Creating a list of top five movie vote count\n",
    "movie_vote_count = list(df4['vote_count'][:5])\n",
    "\n",
    "# Plotting the movie names and the movie vote count\n",
    "ax = sns.pointplot(x = movie_vote_count, y = movie_names)\n",
    "\n",
    "# Setting the title for the plot\n",
    "ax.set_title(\"The top 5 movies with highest number of votes\")\n",
    "\n",
    "# Setting the x and y axes labels for the plot\n",
    "ax.set_xlabel(\"Number of Votes\")\n",
    "ax.set_ylabel(\"Movie Names\")"
   ]
  },
  {
   "cell_type": "markdown",
   "metadata": {},
   "source": [
    "> From the above plot, we can see that, the movies: Inception, The Avengers, Avatar, The Dark Knight, and Django Unchained, have the highest number of votes of all the movies since 1960, till 2015."
   ]
  },
  {
   "cell_type": "markdown",
   "metadata": {},
   "source": [
    "<a id='conclusions'></a>\n",
    "## Conclusions\n",
    "\n",
    "> 1. From Research question 1, we conclude that, the popularity did increased over the period of years.\n",
    "> 2. From Research question 2, we conclude that, in the year 2014, there were highest number of movies released.\n",
    "> 3. From Research question 3, we conclude that, the movie with highest budget is, The Warrior's Way, while the movie with least budget is, Mr. Holmes.\n",
    "> 4. From Research question 4, we conclude that, the movie with highest revenue is, Avatar, while the movie with least revenue is, Wild Card. \n",
    "> 5. From Research question 5, we conclude that, the movie with highest profit is, Avatar, while the movie with least profit is, The Warrior's Way.\n",
    "> 6. From Research question 6, we conclude that, the movie with highest number of votes is, Inception, while the movie with least number of votes is, The Unspoken.\n",
    "> 7. From Research question 7, we conclude that, The Warrior's Way, Pirates of the Caribbean: On Stranger Tides, Pirates of the Caribbean: At World's End, Avengers: Age of Ultron, and Superman Returns, are the top five movies with the highest budget.\n",
    "> 8. From Research question 8, we conclude that, Avatar, Star Wars: The Force Awakens, Titanic, The Avengers, and Jurassic World, are the top five movies with the highest revenues.\n",
    "> 9. From Research question 9, we conclude that, Avatar, Star Wars: The Force Awakens, Titanic, Jurassic World, and Furious 7, are the top five movies that have earned the highest profit.\n",
    "> 10. From Research question 10, we conclude that, Inception, The Avengers, Avatar, The Dark Knight, and Django Unchained, are the movies that have the highest number of votes.\n",
    "\n",
    "## Limitations\n",
    "\n",
    "> 1. There are null values represented with zeros for the budget and the revenue columns. This might affect the results we got for the research questions. If these values are inserted into the dataset, at some point in future, the answers to the research questions might be different.\n",
    "> 2. Also, the metrics of the buget, revenue, popularity are not clear.\n",
    "> 3. Popularity has no upper bounds, so it feels like for some values, they are outliers, but thinking practically there might be some movies who perform exceedingly well, but having a reason based on the statistics or some calculation being done using the dataset will validate this and will be easier to accept."
   ]
  },
  {
   "cell_type": "markdown",
   "metadata": {
    "collapsed": true
   },
   "source": [
    "# References\n",
    "\n",
    "[1] https://www.geeksforgeeks.org/split-a-text-column-into-two-columns-in-pandas-dataframe/"
   ]
  },
  {
   "cell_type": "code",
   "execution_count": null,
   "metadata": {},
   "outputs": [],
   "source": []
  }
 ],
 "metadata": {
  "kernelspec": {
   "display_name": "Python 3",
   "language": "python",
   "name": "python3"
  },
  "language_info": {
   "codemirror_mode": {
    "name": "ipython",
    "version": 3
   },
   "file_extension": ".py",
   "mimetype": "text/x-python",
   "name": "python",
   "nbconvert_exporter": "python",
   "pygments_lexer": "ipython3",
   "version": "3.7.4"
  }
 },
 "nbformat": 4,
 "nbformat_minor": 2
}
